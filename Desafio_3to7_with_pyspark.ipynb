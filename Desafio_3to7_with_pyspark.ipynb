{
 "cells": [
  {
   "cell_type": "code",
   "execution_count": 2,
   "metadata": {},
   "outputs": [],
   "source": [
    "import findspark\n",
    "findspark.init()"
   ]
  },
  {
   "cell_type": "code",
   "execution_count": 3,
   "metadata": {},
   "outputs": [],
   "source": [
    "import pyspark\n",
    "from pyspark.sql import SparkSession\n",
    "import os\n",
    "import time"
   ]
  },
  {
   "cell_type": "code",
   "execution_count": 4,
   "metadata": {},
   "outputs": [],
   "source": [
    "spark = SparkSession.builder.master(\"local[*]\") \\\n",
    "                    .appName('desafio_nubimetrics') \\\n",
    "                    .getOrCreate()"
   ]
  },
  {
   "cell_type": "markdown",
   "metadata": {},
   "source": [
    "# Desafío 3"
   ]
  },
  {
   "cell_type": "code",
   "execution_count": 5,
   "metadata": {},
   "outputs": [],
   "source": [
    "#Creo un string con el nombre del archivo\n",
    "filename_d3 = \"Sellers.json\"\n",
    "\n",
    "# Leo el archivo de formato json y lo almaceno en un dataframe\n",
    "sellers = spark.read.json(filename_d3)"
   ]
  },
  {
   "cell_type": "code",
   "execution_count": 6,
   "metadata": {},
   "outputs": [
    {
     "name": "stdout",
     "output_type": "stream",
     "text": [
      "root\n",
      " |-- body: struct (nullable = true)\n",
      " |    |-- address: struct (nullable = true)\n",
      " |    |    |-- city: string (nullable = true)\n",
      " |    |    |-- state: string (nullable = true)\n",
      " |    |-- buyer_reputation: struct (nullable = true)\n",
      " |    |    |-- tags: array (nullable = true)\n",
      " |    |    |    |-- element: string (containsNull = true)\n",
      " |    |-- country_id: string (nullable = true)\n",
      " |    |-- id: long (nullable = true)\n",
      " |    |-- logo: string (nullable = true)\n",
      " |    |-- nickname: string (nullable = true)\n",
      " |    |-- permalink: string (nullable = true)\n",
      " |    |-- points: long (nullable = true)\n",
      " |    |-- registration_date: string (nullable = true)\n",
      " |    |-- seller_reputation: struct (nullable = true)\n",
      " |    |    |-- level_id: string (nullable = true)\n",
      " |    |    |-- power_seller_status: string (nullable = true)\n",
      " |    |    |-- transactions: struct (nullable = true)\n",
      " |    |    |    |-- canceled: long (nullable = true)\n",
      " |    |    |    |-- completed: long (nullable = true)\n",
      " |    |    |    |-- period: string (nullable = true)\n",
      " |    |    |    |-- ratings: struct (nullable = true)\n",
      " |    |    |    |    |-- negative: long (nullable = true)\n",
      " |    |    |    |    |-- neutral: long (nullable = true)\n",
      " |    |    |    |    |-- positive: long (nullable = true)\n",
      " |    |    |    |-- total: long (nullable = true)\n",
      " |    |-- site_id: string (nullable = true)\n",
      " |    |-- status: struct (nullable = true)\n",
      " |    |    |-- site_status: string (nullable = true)\n",
      " |    |-- tags: array (nullable = true)\n",
      " |    |    |-- element: string (containsNull = true)\n",
      " |    |-- user_type: string (nullable = true)\n",
      " |-- code: long (nullable = true)\n",
      "\n"
     ]
    }
   ],
   "source": [
    "sellers.printSchema()"
   ]
  },
  {
   "cell_type": "code",
   "execution_count": 7,
   "metadata": {},
   "outputs": [],
   "source": [
    "# Selecciono solo la información de interés y lo grabo en un nuevo dataframe\n",
    "sellers_info = sellers.select(\"body.site_id\", \"body.id\", \"body.nickname\", \"body.points\")"
   ]
  },
  {
   "cell_type": "code",
   "execution_count": 8,
   "metadata": {},
   "outputs": [
    {
     "name": "stdout",
     "output_type": "stream",
     "text": [
      "+-------+---------+--------------------+------+\n",
      "|site_id|       id|            nickname|points|\n",
      "+-------+---------+--------------------+------+\n",
      "|    MPE|298734964|      MARIELATAQUIRE|     2|\n",
      "|    MPE|183049329|         MURO8709951|    -3|\n",
      "|    MPE| 94592189|          ILLARYPERU|    -2|\n",
      "|    MPE|520133997|     ISABELLADELPOZO|     1|\n",
      "|    MPE|684964436|         PHMO1747353|     0|\n",
      "|    MPE|685079498|MELISSASUSANAARVA...|     0|\n",
      "|    MPE|646068761|   YOMIDELGADOSNCHEZ|     0|\n",
      "|    MPE|685310649|DONATILDONATILDEC...|     0|\n",
      "|    MPE|685419864|        VANESSAURNER|     0|\n",
      "|    MPE|285674870|    ERICKLOPEZUSMSYA|     2|\n",
      "|    MPE|685275449|DANIELARUIZRIDRIGUES|     0|\n",
      "|    MPE| 48893023|        MARCELASUSAN|     1|\n",
      "|    MPE|603331827|         COVA1031117|     0|\n",
      "|    MPE|205264135|         GOBR7283790|     1|\n",
      "|    MPE|580279940|        LORDVENCEDOR|     0|\n",
      "|    MPE|300834652| DANIELAHILARIORAMOS|     0|\n",
      "|    MPE|270322958|JHONANTHONYCAYLLA...|     0|\n",
      "|    MPE|684554092|OSORIOCOLQUIJESSM...|     0|\n",
      "|    MPE|644166286|         GOEL1504737|     0|\n",
      "|    MPE|685449106|  ISABELSNCHEZMEDINA|     0|\n",
      "+-------+---------+--------------------+------+\n",
      "\n"
     ]
    }
   ],
   "source": [
    "sellers_info.show()"
   ]
  },
  {
   "cell_type": "code",
   "execution_count": 9,
   "metadata": {},
   "outputs": [
    {
     "name": "stdout",
     "output_type": "stream",
     "text": [
      "+-------+---------+----------------+------+\n",
      "|site_id|       id|        nickname|points|\n",
      "+-------+---------+----------------+------+\n",
      "|    MPE|298734964|  MARIELATAQUIRE|     2|\n",
      "|    MPE|520133997| ISABELLADELPOZO|     1|\n",
      "|    MPE|285674870|ERICKLOPEZUSMSYA|     2|\n",
      "|    MPE| 48893023|    MARCELASUSAN|     1|\n",
      "|    MPE|205264135|     GOBR7283790|     1|\n",
      "+-------+---------+----------------+------+\n",
      "\n",
      "+-------+---------+-----------+------+\n",
      "|site_id|       id|   nickname|points|\n",
      "+-------+---------+-----------+------+\n",
      "|    MPE|183049329|MURO8709951|    -3|\n",
      "|    MPE| 94592189| ILLARYPERU|    -2|\n",
      "+-------+---------+-----------+------+\n",
      "\n",
      "+-------+---------+--------------------+------+\n",
      "|site_id|       id|            nickname|points|\n",
      "+-------+---------+--------------------+------+\n",
      "|    MPE|684964436|         PHMO1747353|     0|\n",
      "|    MPE|685079498|MELISSASUSANAARVA...|     0|\n",
      "|    MPE|646068761|   YOMIDELGADOSNCHEZ|     0|\n",
      "|    MPE|685310649|DONATILDONATILDEC...|     0|\n",
      "|    MPE|685419864|        VANESSAURNER|     0|\n",
      "|    MPE|685275449|DANIELARUIZRIDRIGUES|     0|\n",
      "|    MPE|603331827|         COVA1031117|     0|\n",
      "|    MPE|580279940|        LORDVENCEDOR|     0|\n",
      "|    MPE|300834652| DANIELAHILARIORAMOS|     0|\n",
      "|    MPE|270322958|JHONANTHONYCAYLLA...|     0|\n",
      "|    MPE|684554092|OSORIOCOLQUIJESSM...|     0|\n",
      "|    MPE|644166286|         GOEL1504737|     0|\n",
      "|    MPE|685449106|  ISABELSNCHEZMEDINA|     0|\n",
      "+-------+---------+--------------------+------+\n",
      "\n"
     ]
    }
   ],
   "source": [
    "# Creo un nuevo dataframe para los vendedores con puntaje positivo\n",
    "positivo = sellers_info.filter(sellers_info.points > 0)\n",
    "\n",
    "# Creo un nuevo dataframe para los vendedores con puntaje negativo\n",
    "negativo = sellers_info.filter(sellers_info.points < 0)\n",
    "\n",
    "# Creo un nuevo dataframe para los vendedores con puntaje cero\n",
    "cero = sellers_info.filter(sellers_info.points == 0)\n",
    "\n",
    "positivo.show()\n",
    "negativo.show()\n",
    "cero.show()"
   ]
  },
  {
   "cell_type": "code",
   "execution_count": 10,
   "metadata": {},
   "outputs": [],
   "source": [
    "#%% Almaceno los resultados\n",
    "\n",
    "fecha = time.strftime(\"%m/%Y/%d\")\n",
    "sitio = sellers_info.collect()[0][\"site_id\"]\n",
    "\n",
    "# Creo la estructura de carpetas necesaria\n",
    "os.makedirs( str(sitio) + \"/\" + str(fecha) + \"/positivo\")\n",
    "os.mkdir( str(sitio) + \"/\" + str(fecha) + \"/negativo\")\n",
    "os.mkdir( str(sitio) + \"/\" + str(fecha) + \"/cero\")"
   ]
  },
  {
   "cell_type": "code",
   "execution_count": 11,
   "metadata": {},
   "outputs": [],
   "source": [
    "# Guardo los resultados en archivos CVS\n",
    "positivo.toPandas().to_csv(str(sitio) + '/' + str(fecha) + '/positivo/positive_sellers_with_spark.csv', header = 'true', sep = ',')\n",
    "negativo.toPandas().to_csv(str(sitio) + '/' + str(fecha) + '/negativo/negative_sellers_with_spark.csv', header = 'true', sep = ',')\n",
    "cero.toPandas().to_csv(str(sitio) + '/' + str(fecha) + '/cero/cero_sellers_with_spark.csv', header = 'true', sep = ',')\n"
   ]
  },
  {
   "cell_type": "markdown",
   "metadata": {},
   "source": [
    "# Desafío 4"
   ]
  },
  {
   "cell_type": "code",
   "execution_count": 12,
   "metadata": {},
   "outputs": [
    {
     "name": "stdout",
     "output_type": "stream",
     "text": [
      "root\n",
      " |-- available_filters: array (nullable = true)\n",
      " |    |-- element: struct (containsNull = true)\n",
      " |    |    |-- id: string (nullable = true)\n",
      " |    |    |-- name: string (nullable = true)\n",
      " |    |    |-- type: string (nullable = true)\n",
      " |    |    |-- values: array (nullable = true)\n",
      " |    |    |    |-- element: struct (containsNull = true)\n",
      " |    |    |    |    |-- id: string (nullable = true)\n",
      " |    |    |    |    |-- name: string (nullable = true)\n",
      " |    |    |    |    |-- results: long (nullable = true)\n",
      " |-- available_sorts: array (nullable = true)\n",
      " |    |-- element: struct (containsNull = true)\n",
      " |    |    |-- id: string (nullable = true)\n",
      " |    |    |-- name: string (nullable = true)\n",
      " |-- filters: array (nullable = true)\n",
      " |    |-- element: struct (containsNull = true)\n",
      " |    |    |-- id: string (nullable = true)\n",
      " |    |    |-- name: string (nullable = true)\n",
      " |    |    |-- type: string (nullable = true)\n",
      " |    |    |-- values: array (nullable = true)\n",
      " |    |    |    |-- element: struct (containsNull = true)\n",
      " |    |    |    |    |-- id: string (nullable = true)\n",
      " |    |    |    |    |-- name: string (nullable = true)\n",
      " |    |    |    |    |-- path_from_root: array (nullable = true)\n",
      " |    |    |    |    |    |-- element: struct (containsNull = true)\n",
      " |    |    |    |    |    |    |-- id: string (nullable = true)\n",
      " |    |    |    |    |    |    |-- name: string (nullable = true)\n",
      " |-- paging: struct (nullable = true)\n",
      " |    |-- limit: long (nullable = true)\n",
      " |    |-- offset: long (nullable = true)\n",
      " |    |-- primary_results: long (nullable = true)\n",
      " |    |-- total: long (nullable = true)\n",
      " |-- related_results: array (nullable = true)\n",
      " |    |-- element: string (containsNull = true)\n",
      " |-- results: array (nullable = true)\n",
      " |    |-- element: struct (containsNull = true)\n",
      " |    |    |-- accepts_mercadopago: boolean (nullable = true)\n",
      " |    |    |-- address: struct (nullable = true)\n",
      " |    |    |    |-- city_id: string (nullable = true)\n",
      " |    |    |    |-- city_name: string (nullable = true)\n",
      " |    |    |    |-- state_id: string (nullable = true)\n",
      " |    |    |    |-- state_name: string (nullable = true)\n",
      " |    |    |-- attributes: array (nullable = true)\n",
      " |    |    |    |-- element: struct (containsNull = true)\n",
      " |    |    |    |    |-- attribute_group_id: string (nullable = true)\n",
      " |    |    |    |    |-- attribute_group_name: string (nullable = true)\n",
      " |    |    |    |    |-- id: string (nullable = true)\n",
      " |    |    |    |    |-- name: string (nullable = true)\n",
      " |    |    |    |    |-- source: long (nullable = true)\n",
      " |    |    |    |    |-- value_id: string (nullable = true)\n",
      " |    |    |    |    |-- value_name: string (nullable = true)\n",
      " |    |    |    |    |-- value_struct: string (nullable = true)\n",
      " |    |    |    |    |-- values: array (nullable = true)\n",
      " |    |    |    |    |    |-- element: struct (containsNull = true)\n",
      " |    |    |    |    |    |    |-- id: string (nullable = true)\n",
      " |    |    |    |    |    |    |-- name: string (nullable = true)\n",
      " |    |    |    |    |    |    |-- source: long (nullable = true)\n",
      " |    |    |    |    |    |    |-- struct: string (nullable = true)\n",
      " |    |    |-- available_quantity: long (nullable = true)\n",
      " |    |    |-- buying_mode: string (nullable = true)\n",
      " |    |    |-- catalog_product_id: string (nullable = true)\n",
      " |    |    |-- category_id: string (nullable = true)\n",
      " |    |    |-- condition: string (nullable = true)\n",
      " |    |    |-- currency_id: string (nullable = true)\n",
      " |    |    |-- domain_id: string (nullable = true)\n",
      " |    |    |-- id: string (nullable = true)\n",
      " |    |    |-- installments: struct (nullable = true)\n",
      " |    |    |    |-- amount: double (nullable = true)\n",
      " |    |    |    |-- currency_id: string (nullable = true)\n",
      " |    |    |    |-- quantity: long (nullable = true)\n",
      " |    |    |    |-- rate: long (nullable = true)\n",
      " |    |    |-- listing_type_id: string (nullable = true)\n",
      " |    |    |-- official_store_id: long (nullable = true)\n",
      " |    |    |-- original_price: long (nullable = true)\n",
      " |    |    |-- permalink: string (nullable = true)\n",
      " |    |    |-- price: double (nullable = true)\n",
      " |    |    |-- seller: struct (nullable = true)\n",
      " |    |    |    |-- car_dealer: boolean (nullable = true)\n",
      " |    |    |    |-- id: long (nullable = true)\n",
      " |    |    |    |-- permalink: string (nullable = true)\n",
      " |    |    |    |-- real_estate_agency: boolean (nullable = true)\n",
      " |    |    |    |-- registration_date: string (nullable = true)\n",
      " |    |    |    |-- tags: string (nullable = true)\n",
      " |    |    |-- seller_address: struct (nullable = true)\n",
      " |    |    |    |-- address_line: string (nullable = true)\n",
      " |    |    |    |-- city: struct (nullable = true)\n",
      " |    |    |    |    |-- id: string (nullable = true)\n",
      " |    |    |    |    |-- name: string (nullable = true)\n",
      " |    |    |    |-- comment: string (nullable = true)\n",
      " |    |    |    |-- country: struct (nullable = true)\n",
      " |    |    |    |    |-- id: string (nullable = true)\n",
      " |    |    |    |    |-- name: string (nullable = true)\n",
      " |    |    |    |-- id: string (nullable = true)\n",
      " |    |    |    |-- latitude: string (nullable = true)\n",
      " |    |    |    |-- longitude: string (nullable = true)\n",
      " |    |    |    |-- state: struct (nullable = true)\n",
      " |    |    |    |    |-- id: string (nullable = true)\n",
      " |    |    |    |    |-- name: string (nullable = true)\n",
      " |    |    |    |-- zip_code: string (nullable = true)\n",
      " |    |    |-- shipping: struct (nullable = true)\n",
      " |    |    |    |-- free_shipping: boolean (nullable = true)\n",
      " |    |    |    |-- logistic_type: string (nullable = true)\n",
      " |    |    |    |-- mode: string (nullable = true)\n",
      " |    |    |    |-- store_pick_up: boolean (nullable = true)\n",
      " |    |    |    |-- tags: array (nullable = true)\n",
      " |    |    |    |    |-- element: string (containsNull = true)\n",
      " |    |    |-- site_id: string (nullable = true)\n",
      " |    |    |-- sold_quantity: long (nullable = true)\n",
      " |    |    |-- stop_time: string (nullable = true)\n",
      " |    |    |-- tags: array (nullable = true)\n",
      " |    |    |    |-- element: string (containsNull = true)\n",
      " |    |    |-- thumbnail: string (nullable = true)\n",
      " |    |    |-- title: string (nullable = true)\n",
      " |-- secondary_results: array (nullable = true)\n",
      " |    |-- element: string (containsNull = true)\n",
      " |-- site_id: string (nullable = true)\n",
      " |-- sort: struct (nullable = true)\n",
      " |    |-- id: string (nullable = true)\n",
      " |    |-- name: string (nullable = true)\n",
      "\n"
     ]
    }
   ],
   "source": [
    "#Creo un string con el nombre del archivo\n",
    "filename_d4 = \"MPE1004.json\"\n",
    "\n",
    "# Leo el archivo de formato json y lo almaceno en un dataframe\n",
    "MPE1004 = spark.read.json(filename_d4)\n",
    "MPE1004.printSchema()"
   ]
  },
  {
   "cell_type": "code",
   "execution_count": 125,
   "metadata": {
    "scrolled": true
   },
   "outputs": [
    {
     "name": "stdout",
     "output_type": "stream",
     "text": [
      "+-----+------------+-------------+------------------+\n",
      "|rowId|          id|sold_quantity|available_quantity|\n",
      "+-----+------------+-------------+------------------+\n",
      "|    1|MPE433108265|            6|                 9|\n",
      "|    2|MPE434382765|            6|                 3|\n",
      "|    3|MPE433853177|            3|                17|\n",
      "|    4|MPE419883282|           15|                18|\n",
      "|    5|MPE431714651|           15|                 1|\n",
      "|    6|MPE438492919|            0|               100|\n",
      "|    7|MPE429448587|            0|                50|\n",
      "|    8|MPE439307195|            0|                 3|\n",
      "|    9|MPE439307251|            0|                 3|\n",
      "|   10|MPE437503507|            0|                10|\n",
      "|   11|MPE438828260|            0|                 3|\n",
      "|   12|MPE439307426|            0|                 3|\n",
      "|   13|MPE440306037|            0|                 1|\n",
      "|   14|MPE439307206|            0|                 3|\n",
      "|   15|MPE431446248|            2|                23|\n",
      "|   16|MPE439307250|            0|                 3|\n",
      "|   17|MPE439510012|            0|                 1|\n",
      "|   18|MPE439307317|            0|                 3|\n",
      "|   19|MPE439307286|            0|                 3|\n",
      "|   20|MPE439307385|            0|                 3|\n",
      "|   21|MPE440131689|            0|                 7|\n",
      "|   22|MPE432990777|            1|                 5|\n",
      "|   23|MPE440389411|            1|                 9|\n",
      "|   24|MPE421767433|            4|                11|\n",
      "|   25|MPE432990779|            0|                 1|\n",
      "|   26|MPE432439269|            2|                 1|\n",
      "|   27|MPE431410374|            0|                 1|\n",
      "|   28|MPE430002527|            1|                 1|\n",
      "|   29|MPE432990781|            0|                 1|\n",
      "|   30|MPE432202936|            0|                10|\n",
      "|   31|MPE428549066|            0|                 5|\n",
      "|   32|MPE428549082|            1|                 4|\n",
      "|   33|MPE433933924|            1|                 1|\n",
      "|   34|MPE432291284|            2|                 1|\n",
      "|   35|MPE432728801|            1|                 1|\n",
      "|   36|MPE433252062|            2|                 1|\n",
      "|   37|MPE436649728|            0|               100|\n",
      "|   38|MPE427140390|           10|                 2|\n",
      "|   39|MPE433046443|            0|               999|\n",
      "+-----+------------+-------------+------------------+\n",
      "\n"
     ]
    }
   ],
   "source": [
    "import pyspark.sql.functions as F\n",
    "\n",
    "products_info = MPE1004.select(\"results.id\", \"results.sold_quantity\", \"results.available_quantity\")\n",
    "products_info = ( products_info.withColumn(\"tmp\", F.arrays_zip(\"id\", \"sold_quantity\", \"available_quantity\"))\n",
    "                  .withColumn(\"tmp\", F.explode(\"tmp\"))\n",
    "                  .select(F.col(\"tmp.id\"), F.col(\"tmp.sold_quantity\"), F.col(\"tmp.available_quantity\")) )\n",
    "\n",
    "products_info = products_info.withColumn( \"rowId\", F.monotonically_increasing_id()+1 ) \n",
    "products_info = products_info.select( \"rowId\", \"id\", \"sold_quantity\", \"available_quantity\")\n",
    "\n",
    "products_info.show(40) # Resultado del desafío 4"
   ]
  },
  {
   "cell_type": "markdown",
   "metadata": {},
   "source": [
    "# Desafío 5"
   ]
  },
  {
   "cell_type": "code",
   "execution_count": 127,
   "metadata": {},
   "outputs": [
    {
     "name": "stdout",
     "output_type": "stream",
     "text": [
      "+------------+------+\n",
      "|      itemId|visits|\n",
      "+------------+------+\n",
      "|MPE433108265|   203|\n",
      "|MPE434382765|   170|\n",
      "|MPE433853177|  1034|\n",
      "|MPE419883282|  1772|\n",
      "|MPE431714651|    33|\n",
      "|MPE438492919|  1160|\n",
      "|MPE429448587|  2669|\n",
      "|MPE439307195|    36|\n",
      "|MPE439307251|   257|\n",
      "|MPE437503507|   292|\n",
      "|MPE438828260|   102|\n",
      "|MPE439307426|    29|\n",
      "|MPE440306037|    50|\n",
      "|MPE439307206|   120|\n",
      "|MPE431446248|  2242|\n",
      "|MPE439307250|   108|\n",
      "|MPE439510012|    56|\n",
      "|MPE439307317|   183|\n",
      "|MPE439307286|   267|\n",
      "|MPE439307385|    22|\n",
      "+------------+------+\n",
      "only showing top 20 rows\n",
      "\n"
     ]
    }
   ],
   "source": [
    "#Creo un string con el nombre del archivo\n",
    "filename_d5 = \"visits.csv\"\n",
    "\n",
    "# Leo el archivo de formato json y lo almaceno en un dataframe\n",
    "data_visits = spark.read.csv(filename_d5, header = True)\n",
    "\n",
    "data_visits.show()"
   ]
  },
  {
   "cell_type": "code",
   "execution_count": 134,
   "metadata": {},
   "outputs": [
    {
     "name": "stdout",
     "output_type": "stream",
     "text": [
      "+------------+-------------+------+\n",
      "|          id|sold_quantity|visits|\n",
      "+------------+-------------+------+\n",
      "|MPE433108265|            6|   203|\n",
      "|MPE434382765|            6|   170|\n",
      "|MPE433853177|            3|  1034|\n",
      "|MPE419883282|           15|  1772|\n",
      "|MPE431714651|           15|    33|\n",
      "|MPE431446248|            2|  2242|\n",
      "|MPE432990777|            1|   426|\n",
      "|MPE440389411|            1|   158|\n",
      "|MPE421767433|            4|   746|\n",
      "|MPE432439269|            2|    42|\n",
      "|MPE430002527|            1|    60|\n",
      "|MPE428549082|            1|   352|\n",
      "|MPE433933924|            1|    49|\n",
      "|MPE432291284|            2|     6|\n",
      "|MPE432728801|            1|    68|\n",
      "|MPE433252062|            2|    92|\n",
      "|MPE427140390|           10|    81|\n",
      "+------------+-------------+------+\n",
      "\n"
     ]
    }
   ],
   "source": [
    "# Uno los datos de visits al dataframe del desafío 4 usando la columna idItem para el join\n",
    "visits_info = products_info.join(data_visits, products_info.id == data_visits.itemId).select(\"id\", \"sold_quantity\",\"visits\")\n",
    "\n",
    "# Filtro los elementos sin ventas\n",
    "visits_with_sold = visits_info.filter(visits_info.sold_quantity != 0)\n",
    "\n",
    "visits_with_sold.show() # Resultado del desafío 5"
   ]
  },
  {
   "cell_type": "markdown",
   "metadata": {},
   "source": [
    "# Desafío 6"
   ]
  },
  {
   "cell_type": "code",
   "execution_count": 171,
   "metadata": {},
   "outputs": [
    {
     "name": "stdout",
     "output_type": "stream",
     "text": [
      "+------------+-------------+------+--------------+-----------------+\n",
      "|          id|sold_quantity|visits|conversionRate|conversionRanking|\n",
      "+------------+-------------+------+--------------+-----------------+\n",
      "|MPE431714651|           15|    33|        0.4545|                1|\n",
      "|MPE432291284|            2|     6|        0.3333|                2|\n",
      "|MPE427140390|           10|    81|        0.1235|                3|\n",
      "|MPE432439269|            2|    42|        0.0476|                4|\n",
      "|MPE434382765|            6|   170|        0.0353|                5|\n",
      "|MPE433108265|            6|   203|        0.0296|                6|\n",
      "|MPE433252062|            2|    92|        0.0217|                7|\n",
      "|MPE433933924|            1|    49|        0.0204|                8|\n",
      "|MPE430002527|            1|    60|        0.0167|                9|\n",
      "|MPE432728801|            1|    68|        0.0147|               10|\n",
      "|MPE419883282|           15|  1772|        0.0085|               11|\n",
      "|MPE440389411|            1|   158|        0.0063|               12|\n",
      "|MPE421767433|            4|   746|        0.0054|               13|\n",
      "|MPE433853177|            3|  1034|        0.0029|               14|\n",
      "|MPE428549082|            1|   352|        0.0028|               15|\n",
      "|MPE432990777|            1|   426|        0.0023|               16|\n",
      "|MPE431446248|            2|  2242|        9.0E-4|               17|\n",
      "+------------+-------------+------+--------------+-----------------+\n",
      "\n"
     ]
    }
   ],
   "source": [
    "from pyspark.sql import Window\n",
    "\n",
    "# Al dataframe anterior le inserto una nueva columna con el encabezado \"conversionRate\" y los datos requeridos\n",
    "conversion_data = ( visits_with_sold.withColumn(\"conversionRate\", \n",
    "                    F.round( ( F.col(\"sold_quantity\") / F.col(\"visits\") ), 4 ) ) )\n",
    "\n",
    "# Agrego la columna del ranking y ordeno los datos de forma descendente respecto a \"conversionRate\"\n",
    "conversion_data = ( conversion_data.withColumn( \"conversionRanking\", \n",
    "                    F.dense_rank().over( Window.orderBy( F.desc(conversion_data.conversionRate) ) ) ) )\n",
    "\n",
    "conversion_data.show() # Resultado del desafío 6"
   ]
  },
  {
   "cell_type": "markdown",
   "metadata": {},
   "source": [
    "# Desafío 7"
   ]
  },
  {
   "cell_type": "code",
   "execution_count": 209,
   "metadata": {},
   "outputs": [
    {
     "name": "stdout",
     "output_type": "stream",
     "text": [
      "+------------+------------------+---------------+\n",
      "|          id|available_quantity|stockPercentage|\n",
      "+------------+------------------+---------------+\n",
      "|MPE433046443|               999|           70.3|\n",
      "|MPE438492919|               100|           7.04|\n",
      "|MPE436649728|               100|           7.04|\n",
      "|MPE429448587|                50|           3.52|\n",
      "|MPE431446248|                23|           1.62|\n",
      "|MPE419883282|                18|           1.27|\n",
      "|MPE433853177|                17|            1.2|\n",
      "|MPE421767433|                11|           0.77|\n",
      "|MPE432202936|                10|            0.7|\n",
      "|MPE437503507|                10|            0.7|\n",
      "|MPE440389411|                 9|           0.63|\n",
      "|MPE433108265|                 9|           0.63|\n",
      "|MPE440131689|                 7|           0.49|\n",
      "|MPE428549066|                 5|           0.35|\n",
      "|MPE432990777|                 5|           0.35|\n",
      "|MPE428549082|                 4|           0.28|\n",
      "|MPE438828260|                 3|           0.21|\n",
      "|MPE439307317|                 3|           0.21|\n",
      "|MPE439307426|                 3|           0.21|\n",
      "|MPE439307206|                 3|           0.21|\n",
      "|MPE439307286|                 3|           0.21|\n",
      "|MPE434382765|                 3|           0.21|\n",
      "|MPE439307251|                 3|           0.21|\n",
      "|MPE439307250|                 3|           0.21|\n",
      "|MPE439307385|                 3|           0.21|\n",
      "|MPE439307195|                 3|           0.21|\n",
      "|MPE427140390|                 2|           0.14|\n",
      "|MPE431714651|                 1|           0.07|\n",
      "|MPE432439269|                 1|           0.07|\n",
      "|MPE440306037|                 1|           0.07|\n",
      "|MPE431410374|                 1|           0.07|\n",
      "|MPE439510012|                 1|           0.07|\n",
      "|MPE430002527|                 1|           0.07|\n",
      "|MPE433933924|                 1|           0.07|\n",
      "|MPE432990779|                 1|           0.07|\n",
      "|MPE432990781|                 1|           0.07|\n",
      "|MPE432291284|                 1|           0.07|\n",
      "|MPE432728801|                 1|           0.07|\n",
      "|MPE433252062|                 1|           0.07|\n",
      "+------------+------------------+---------------+\n",
      "\n"
     ]
    }
   ],
   "source": [
    "# Selecciono las columnas indicadas\n",
    "percentage_stock  = products_info.select(\"id\", \"available_quantity\")\n",
    "total_stock = percentage_stock.select(\"available_quantity\").groupBy().sum().collect()[0][0]\n",
    "\n",
    "# Agrego la columna stockPercentage, con el cálculo del porcentaje de stock de cada articulo\n",
    "percentage_stock = ( percentage_stock.withColumn(\"stockPercentage\", \n",
    "                    F.round( ( F.col(\"available_quantity\") / total_stock  ) * 100, 2 ) ) )\n",
    "\n",
    "# Ordeno los datos del dataframe de manera que descendente respecto a \"stockPercentage\"\n",
    "percentage_stock = percentage_stock.sort( F.desc(\"stockPercentage\") )\n",
    "\n",
    "\n",
    "percentage_stock.show(40) # Resultado del desafío 7"
   ]
  }
 ],
 "metadata": {
  "kernelspec": {
   "display_name": "Python 3",
   "language": "python",
   "name": "python3"
  },
  "language_info": {
   "codemirror_mode": {
    "name": "ipython",
    "version": 3
   },
   "file_extension": ".py",
   "mimetype": "text/x-python",
   "name": "python",
   "nbconvert_exporter": "python",
   "pygments_lexer": "ipython3",
   "version": "3.8.5"
  }
 },
 "nbformat": 4,
 "nbformat_minor": 4
}
